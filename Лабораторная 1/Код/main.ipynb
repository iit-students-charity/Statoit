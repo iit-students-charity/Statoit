{
 "cells": [
  {
   "cell_type": "code",
   "execution_count": 1,
   "outputs": [],
   "source": [
    "import numpy as np\n",
    "import pandas as pd"
   ],
   "metadata": {
    "collapsed": false,
    "pycharm": {
     "name": "#%%\n"
    }
   }
  },
  {
   "cell_type": "code",
   "execution_count": 2,
   "outputs": [],
   "source": [
    "dataset = pd.read_csv(\"unicorn.csv\")"
   ],
   "metadata": {
    "collapsed": false,
    "pycharm": {
     "name": "#%%\n"
    }
   }
  },
  {
   "cell_type": "code",
   "execution_count": 3,
   "outputs": [
    {
     "data": {
      "text/plain": "           Company Valuation ($B) Date Joined        Country           City  \\\n0        Bytedance           $140    4/7/2017          China        Beijing   \n1           SpaceX         $100.3   12/1/2012  United States      Hawthorne   \n2           Stripe            $95   1/23/2014  United States  San Francisco   \n3           Klarna          $45.6  12/12/2011         Sweden      Stockholm   \n4       Epic Games            $42  10/26/2018  United States           Cary   \n...            ...            ...         ...            ...            ...   \n1032     Timescale             $1   2/22/2022  United States       New York   \n1033      Scalapay             $1   2/23/2022          Italy          Milan   \n1034  Omada Health             $1   2/23/2022  United States  San Francisco   \n1035    BlueVoyant             $1   2/23/2022  United States       New York   \n1036          Veev             $1   2/24/2022  United States      San Mateo   \n\n                          Industry  \\\n0          Artificial intelligence   \n1                            Other   \n2                          Fintech   \n3                          Fintech   \n4                            Other   \n...                            ...   \n1032  Internet software & services   \n1033                       Fintech   \n1034                        Health   \n1035                 Cybersecurity   \n1036  Internet software & services   \n\n                                      Select Inverstors Founded Year  \\\n0     Sequoia Capital China, SIG Asia Investments, S...         2012   \n1     Founders Fund, Draper Fisher Jurvetson, Rothen...         2002   \n2           Khosla Ventures, LowercaseCapital, capitalG         2010   \n3     Institutional Venture Partners, Sequoia Capita...         2005   \n4                 Tencent Holdings, KKR, Smash Ventures         1991   \n...                                                 ...          ...   \n1032  New Enterprise Associates, Benchmark, Two Sigm...         2015   \n1033  Fasanara Capital, Tiger Global Management, Bal...         2019   \n1034  U.S. Venture Partners, dRx Capital, Andreessen...         2011   \n1035  8VC, Liberty Strategic Capital, Eden Global Pa...         2017   \n1036           Zeev Ventures, Bond, Fifth Wall Ventures         2008   \n\n     Total Raised Financial Stage Investors Count Deal Terms Portfolio Exits  \n0          $7.44B             IPO              28          8               5  \n1         $6.874B            None              29         12            None  \n2         $2.901B           Asset              39         12               1  \n3         $3.472B        Acquired              56         13               1  \n4         $4.377B        Acquired              25          5               2  \n...           ...             ...             ...        ...             ...  \n1032     $181.06M            None               7          2            None  \n1033        $700M            None              10          2            None  \n1034     $449.72M            None              30          6            None  \n1035      $525.5M            None               6          2            None  \n1036      $604.5M            None              11          1            None  \n\n[1037 rows x 13 columns]",
      "text/html": "<div>\n<style scoped>\n    .dataframe tbody tr th:only-of-type {\n        vertical-align: middle;\n    }\n\n    .dataframe tbody tr th {\n        vertical-align: top;\n    }\n\n    .dataframe thead th {\n        text-align: right;\n    }\n</style>\n<table border=\"1\" class=\"dataframe\">\n  <thead>\n    <tr style=\"text-align: right;\">\n      <th></th>\n      <th>Company</th>\n      <th>Valuation ($B)</th>\n      <th>Date Joined</th>\n      <th>Country</th>\n      <th>City</th>\n      <th>Industry</th>\n      <th>Select Inverstors</th>\n      <th>Founded Year</th>\n      <th>Total Raised</th>\n      <th>Financial Stage</th>\n      <th>Investors Count</th>\n      <th>Deal Terms</th>\n      <th>Portfolio Exits</th>\n    </tr>\n  </thead>\n  <tbody>\n    <tr>\n      <th>0</th>\n      <td>Bytedance</td>\n      <td>$140</td>\n      <td>4/7/2017</td>\n      <td>China</td>\n      <td>Beijing</td>\n      <td>Artificial intelligence</td>\n      <td>Sequoia Capital China, SIG Asia Investments, S...</td>\n      <td>2012</td>\n      <td>$7.44B</td>\n      <td>IPO</td>\n      <td>28</td>\n      <td>8</td>\n      <td>5</td>\n    </tr>\n    <tr>\n      <th>1</th>\n      <td>SpaceX</td>\n      <td>$100.3</td>\n      <td>12/1/2012</td>\n      <td>United States</td>\n      <td>Hawthorne</td>\n      <td>Other</td>\n      <td>Founders Fund, Draper Fisher Jurvetson, Rothen...</td>\n      <td>2002</td>\n      <td>$6.874B</td>\n      <td>None</td>\n      <td>29</td>\n      <td>12</td>\n      <td>None</td>\n    </tr>\n    <tr>\n      <th>2</th>\n      <td>Stripe</td>\n      <td>$95</td>\n      <td>1/23/2014</td>\n      <td>United States</td>\n      <td>San Francisco</td>\n      <td>Fintech</td>\n      <td>Khosla Ventures, LowercaseCapital, capitalG</td>\n      <td>2010</td>\n      <td>$2.901B</td>\n      <td>Asset</td>\n      <td>39</td>\n      <td>12</td>\n      <td>1</td>\n    </tr>\n    <tr>\n      <th>3</th>\n      <td>Klarna</td>\n      <td>$45.6</td>\n      <td>12/12/2011</td>\n      <td>Sweden</td>\n      <td>Stockholm</td>\n      <td>Fintech</td>\n      <td>Institutional Venture Partners, Sequoia Capita...</td>\n      <td>2005</td>\n      <td>$3.472B</td>\n      <td>Acquired</td>\n      <td>56</td>\n      <td>13</td>\n      <td>1</td>\n    </tr>\n    <tr>\n      <th>4</th>\n      <td>Epic Games</td>\n      <td>$42</td>\n      <td>10/26/2018</td>\n      <td>United States</td>\n      <td>Cary</td>\n      <td>Other</td>\n      <td>Tencent Holdings, KKR, Smash Ventures</td>\n      <td>1991</td>\n      <td>$4.377B</td>\n      <td>Acquired</td>\n      <td>25</td>\n      <td>5</td>\n      <td>2</td>\n    </tr>\n    <tr>\n      <th>...</th>\n      <td>...</td>\n      <td>...</td>\n      <td>...</td>\n      <td>...</td>\n      <td>...</td>\n      <td>...</td>\n      <td>...</td>\n      <td>...</td>\n      <td>...</td>\n      <td>...</td>\n      <td>...</td>\n      <td>...</td>\n      <td>...</td>\n    </tr>\n    <tr>\n      <th>1032</th>\n      <td>Timescale</td>\n      <td>$1</td>\n      <td>2/22/2022</td>\n      <td>United States</td>\n      <td>New York</td>\n      <td>Internet software &amp; services</td>\n      <td>New Enterprise Associates, Benchmark, Two Sigm...</td>\n      <td>2015</td>\n      <td>$181.06M</td>\n      <td>None</td>\n      <td>7</td>\n      <td>2</td>\n      <td>None</td>\n    </tr>\n    <tr>\n      <th>1033</th>\n      <td>Scalapay</td>\n      <td>$1</td>\n      <td>2/23/2022</td>\n      <td>Italy</td>\n      <td>Milan</td>\n      <td>Fintech</td>\n      <td>Fasanara Capital, Tiger Global Management, Bal...</td>\n      <td>2019</td>\n      <td>$700M</td>\n      <td>None</td>\n      <td>10</td>\n      <td>2</td>\n      <td>None</td>\n    </tr>\n    <tr>\n      <th>1034</th>\n      <td>Omada Health</td>\n      <td>$1</td>\n      <td>2/23/2022</td>\n      <td>United States</td>\n      <td>San Francisco</td>\n      <td>Health</td>\n      <td>U.S. Venture Partners, dRx Capital, Andreessen...</td>\n      <td>2011</td>\n      <td>$449.72M</td>\n      <td>None</td>\n      <td>30</td>\n      <td>6</td>\n      <td>None</td>\n    </tr>\n    <tr>\n      <th>1035</th>\n      <td>BlueVoyant</td>\n      <td>$1</td>\n      <td>2/23/2022</td>\n      <td>United States</td>\n      <td>New York</td>\n      <td>Cybersecurity</td>\n      <td>8VC, Liberty Strategic Capital, Eden Global Pa...</td>\n      <td>2017</td>\n      <td>$525.5M</td>\n      <td>None</td>\n      <td>6</td>\n      <td>2</td>\n      <td>None</td>\n    </tr>\n    <tr>\n      <th>1036</th>\n      <td>Veev</td>\n      <td>$1</td>\n      <td>2/24/2022</td>\n      <td>United States</td>\n      <td>San Mateo</td>\n      <td>Internet software &amp; services</td>\n      <td>Zeev Ventures, Bond, Fifth Wall Ventures</td>\n      <td>2008</td>\n      <td>$604.5M</td>\n      <td>None</td>\n      <td>11</td>\n      <td>1</td>\n      <td>None</td>\n    </tr>\n  </tbody>\n</table>\n<p>1037 rows × 13 columns</p>\n</div>"
     },
     "execution_count": 3,
     "metadata": {},
     "output_type": "execute_result"
    }
   ],
   "source": [
    "dataset"
   ],
   "metadata": {
    "collapsed": false,
    "pycharm": {
     "name": "#%%\n"
    }
   }
  },
  {
   "cell_type": "code",
   "execution_count": 4,
   "outputs": [],
   "source": [
    "dataset = dataset.drop([1,2,3])"
   ],
   "metadata": {
    "collapsed": false,
    "pycharm": {
     "name": "#%%\n"
    }
   }
  },
  {
   "cell_type": "code",
   "execution_count": 5,
   "outputs": [],
   "source": [
    "dataset.index = [index for index in range(len(dataset))]"
   ],
   "metadata": {
    "collapsed": false,
    "pycharm": {
     "name": "#%%\n"
    }
   }
  },
  {
   "cell_type": "code",
   "execution_count": 6,
   "outputs": [
    {
     "data": {
      "text/plain": "           Company Valuation ($B) Date Joined         Country           City  \\\n0        Bytedance           $140    4/7/2017           China        Beijing   \n1       Epic Games            $42  10/26/2018   United States           Cary   \n2            Canva            $40    1/8/2018       Australia    Surry Hills   \n3     Checkout.com            $40    5/2/2019  United Kingdom         London   \n4        Instacart            $39  12/30/2014   United States  San Francisco   \n...            ...            ...         ...             ...            ...   \n1029     Timescale             $1   2/22/2022   United States       New York   \n1030      Scalapay             $1   2/23/2022           Italy          Milan   \n1031  Omada Health             $1   2/23/2022   United States  San Francisco   \n1032    BlueVoyant             $1   2/23/2022   United States       New York   \n1033          Veev             $1   2/24/2022   United States      San Mateo   \n\n                                 Industry  \\\n0                 Artificial intelligence   \n1                                   Other   \n2            Internet software & services   \n3                                 Fintech   \n4     Supply chain, logistics, & delivery   \n...                                   ...   \n1029         Internet software & services   \n1030                              Fintech   \n1031                               Health   \n1032                        Cybersecurity   \n1033         Internet software & services   \n\n                                      Select Inverstors Founded Year  \\\n0     Sequoia Capital China, SIG Asia Investments, S...         2012   \n1                 Tencent Holdings, KKR, Smash Ventures         1991   \n2     Sequoia Capital China, Blackbird Ventures, Mat...         2012   \n3     Tiger Global Management, Insight Partners, DST...         2012   \n4     Khosla Ventures, Kleiner Perkins Caufield & By...         2012   \n...                                                 ...          ...   \n1029  New Enterprise Associates, Benchmark, Two Sigm...         2015   \n1030  Fasanara Capital, Tiger Global Management, Bal...         2019   \n1031  U.S. Venture Partners, dRx Capital, Andreessen...         2011   \n1032  8VC, Liberty Strategic Capital, Eden Global Pa...         2017   \n1033           Zeev Ventures, Bond, Fifth Wall Ventures         2008   \n\n     Total Raised Financial Stage Investors Count Deal Terms Portfolio Exits  \n0          $7.44B             IPO              28          8               5  \n1         $4.377B        Acquired              25          5               2  \n2        $571.26M            None              26          8            None  \n3          $1.83B            None              15          4            None  \n4         $2.686B            None              29         12            None  \n...           ...             ...             ...        ...             ...  \n1029     $181.06M            None               7          2            None  \n1030        $700M            None              10          2            None  \n1031     $449.72M            None              30          6            None  \n1032      $525.5M            None               6          2            None  \n1033      $604.5M            None              11          1            None  \n\n[1034 rows x 13 columns]",
      "text/html": "<div>\n<style scoped>\n    .dataframe tbody tr th:only-of-type {\n        vertical-align: middle;\n    }\n\n    .dataframe tbody tr th {\n        vertical-align: top;\n    }\n\n    .dataframe thead th {\n        text-align: right;\n    }\n</style>\n<table border=\"1\" class=\"dataframe\">\n  <thead>\n    <tr style=\"text-align: right;\">\n      <th></th>\n      <th>Company</th>\n      <th>Valuation ($B)</th>\n      <th>Date Joined</th>\n      <th>Country</th>\n      <th>City</th>\n      <th>Industry</th>\n      <th>Select Inverstors</th>\n      <th>Founded Year</th>\n      <th>Total Raised</th>\n      <th>Financial Stage</th>\n      <th>Investors Count</th>\n      <th>Deal Terms</th>\n      <th>Portfolio Exits</th>\n    </tr>\n  </thead>\n  <tbody>\n    <tr>\n      <th>0</th>\n      <td>Bytedance</td>\n      <td>$140</td>\n      <td>4/7/2017</td>\n      <td>China</td>\n      <td>Beijing</td>\n      <td>Artificial intelligence</td>\n      <td>Sequoia Capital China, SIG Asia Investments, S...</td>\n      <td>2012</td>\n      <td>$7.44B</td>\n      <td>IPO</td>\n      <td>28</td>\n      <td>8</td>\n      <td>5</td>\n    </tr>\n    <tr>\n      <th>1</th>\n      <td>Epic Games</td>\n      <td>$42</td>\n      <td>10/26/2018</td>\n      <td>United States</td>\n      <td>Cary</td>\n      <td>Other</td>\n      <td>Tencent Holdings, KKR, Smash Ventures</td>\n      <td>1991</td>\n      <td>$4.377B</td>\n      <td>Acquired</td>\n      <td>25</td>\n      <td>5</td>\n      <td>2</td>\n    </tr>\n    <tr>\n      <th>2</th>\n      <td>Canva</td>\n      <td>$40</td>\n      <td>1/8/2018</td>\n      <td>Australia</td>\n      <td>Surry Hills</td>\n      <td>Internet software &amp; services</td>\n      <td>Sequoia Capital China, Blackbird Ventures, Mat...</td>\n      <td>2012</td>\n      <td>$571.26M</td>\n      <td>None</td>\n      <td>26</td>\n      <td>8</td>\n      <td>None</td>\n    </tr>\n    <tr>\n      <th>3</th>\n      <td>Checkout.com</td>\n      <td>$40</td>\n      <td>5/2/2019</td>\n      <td>United Kingdom</td>\n      <td>London</td>\n      <td>Fintech</td>\n      <td>Tiger Global Management, Insight Partners, DST...</td>\n      <td>2012</td>\n      <td>$1.83B</td>\n      <td>None</td>\n      <td>15</td>\n      <td>4</td>\n      <td>None</td>\n    </tr>\n    <tr>\n      <th>4</th>\n      <td>Instacart</td>\n      <td>$39</td>\n      <td>12/30/2014</td>\n      <td>United States</td>\n      <td>San Francisco</td>\n      <td>Supply chain, logistics, &amp; delivery</td>\n      <td>Khosla Ventures, Kleiner Perkins Caufield &amp; By...</td>\n      <td>2012</td>\n      <td>$2.686B</td>\n      <td>None</td>\n      <td>29</td>\n      <td>12</td>\n      <td>None</td>\n    </tr>\n    <tr>\n      <th>...</th>\n      <td>...</td>\n      <td>...</td>\n      <td>...</td>\n      <td>...</td>\n      <td>...</td>\n      <td>...</td>\n      <td>...</td>\n      <td>...</td>\n      <td>...</td>\n      <td>...</td>\n      <td>...</td>\n      <td>...</td>\n      <td>...</td>\n    </tr>\n    <tr>\n      <th>1029</th>\n      <td>Timescale</td>\n      <td>$1</td>\n      <td>2/22/2022</td>\n      <td>United States</td>\n      <td>New York</td>\n      <td>Internet software &amp; services</td>\n      <td>New Enterprise Associates, Benchmark, Two Sigm...</td>\n      <td>2015</td>\n      <td>$181.06M</td>\n      <td>None</td>\n      <td>7</td>\n      <td>2</td>\n      <td>None</td>\n    </tr>\n    <tr>\n      <th>1030</th>\n      <td>Scalapay</td>\n      <td>$1</td>\n      <td>2/23/2022</td>\n      <td>Italy</td>\n      <td>Milan</td>\n      <td>Fintech</td>\n      <td>Fasanara Capital, Tiger Global Management, Bal...</td>\n      <td>2019</td>\n      <td>$700M</td>\n      <td>None</td>\n      <td>10</td>\n      <td>2</td>\n      <td>None</td>\n    </tr>\n    <tr>\n      <th>1031</th>\n      <td>Omada Health</td>\n      <td>$1</td>\n      <td>2/23/2022</td>\n      <td>United States</td>\n      <td>San Francisco</td>\n      <td>Health</td>\n      <td>U.S. Venture Partners, dRx Capital, Andreessen...</td>\n      <td>2011</td>\n      <td>$449.72M</td>\n      <td>None</td>\n      <td>30</td>\n      <td>6</td>\n      <td>None</td>\n    </tr>\n    <tr>\n      <th>1032</th>\n      <td>BlueVoyant</td>\n      <td>$1</td>\n      <td>2/23/2022</td>\n      <td>United States</td>\n      <td>New York</td>\n      <td>Cybersecurity</td>\n      <td>8VC, Liberty Strategic Capital, Eden Global Pa...</td>\n      <td>2017</td>\n      <td>$525.5M</td>\n      <td>None</td>\n      <td>6</td>\n      <td>2</td>\n      <td>None</td>\n    </tr>\n    <tr>\n      <th>1033</th>\n      <td>Veev</td>\n      <td>$1</td>\n      <td>2/24/2022</td>\n      <td>United States</td>\n      <td>San Mateo</td>\n      <td>Internet software &amp; services</td>\n      <td>Zeev Ventures, Bond, Fifth Wall Ventures</td>\n      <td>2008</td>\n      <td>$604.5M</td>\n      <td>None</td>\n      <td>11</td>\n      <td>1</td>\n      <td>None</td>\n    </tr>\n  </tbody>\n</table>\n<p>1034 rows × 13 columns</p>\n</div>"
     },
     "execution_count": 6,
     "metadata": {},
     "output_type": "execute_result"
    }
   ],
   "source": [
    "dataset"
   ],
   "metadata": {
    "collapsed": false,
    "pycharm": {
     "name": "#%%\n"
    }
   }
  },
  {
   "cell_type": "code",
   "execution_count": null,
   "outputs": [],
   "source": [
    "dataset[\"Total Raised\"] = dataset[\"Total Raised\"].str.replace(\"$\", \"\")\n",
    "for index, row in dataset.iterrows():\n",
    "    last_symbol = [\"Total Raised\"][-1]\n",
    "    if last_symbol == \"B\":\n",
    "        dataset[\"Total Raised\"][index] = dataset[\"Total Raised\"][index][:-1]\n",
    "    elif last_symbol == \"M\":\n",
    "        dataset[\"Total Raised\"][index] = float(dataset[\"Total Raised\"][index][:-1]) / 1000\n",
    "    elif last_symbol == \"K\":\n",
    "        dataset[\"Total Raised\"][index] = float(dataset[\"Total Raised\"][index][:-1]) / 1000000\n",
    "dataset[\"Total Raised\"] = pd.to_numeric(dataset[\"Total Raised\"])"
   ],
   "metadata": {
    "collapsed": false,
    "pycharm": {
     "name": "#%%\n"
    }
   }
  },
  {
   "cell_type": "code",
   "execution_count": 8,
   "outputs": [],
   "source": [
    "dataset.to_csv(\n",
    "    \"набор данных.csv\"\n",
    ")"
   ],
   "metadata": {
    "collapsed": false,
    "pycharm": {
     "name": "#%%\n"
    }
   }
  },
  {
   "cell_type": "code",
   "execution_count": 12,
   "outputs": [],
   "source": [
    "dataset.to_excel(\n",
    "    'Набор данных.xlsx',\n",
    "    sheet_name='Данные',\n",
    "    index=False,\n",
    ")"
   ],
   "metadata": {
    "collapsed": false,
    "pycharm": {
     "name": "#%%\n"
    }
   }
  }
 ],
 "metadata": {
  "kernelspec": {
   "display_name": "Python 3",
   "language": "python",
   "name": "python3"
  },
  "language_info": {
   "codemirror_mode": {
    "name": "ipython",
    "version": 2
   },
   "file_extension": ".py",
   "mimetype": "text/x-python",
   "name": "python",
   "nbconvert_exporter": "python",
   "pygments_lexer": "ipython2",
   "version": "2.7.6"
  }
 },
 "nbformat": 4,
 "nbformat_minor": 0
}