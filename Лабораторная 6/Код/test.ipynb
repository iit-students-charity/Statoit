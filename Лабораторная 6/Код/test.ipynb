{
 "cells": [
  {
   "cell_type": "code",
   "execution_count": 1,
   "outputs": [],
   "source": [
    "import numpy as np\n",
    "import tensorflow as tf\n",
    "import pandas as pd"
   ],
   "metadata": {
    "collapsed": false,
    "pycharm": {
     "name": "#%%\n"
    }
   }
  },
  {
   "cell_type": "code",
   "execution_count": 2,
   "outputs": [],
   "source": [
    "PATH = \"dataset/indexData.csv\"\n",
    "dataset = pd.read_csv(PATH)"
   ],
   "metadata": {
    "collapsed": false,
    "pycharm": {
     "name": "#%%\n"
    }
   }
  },
  {
   "cell_type": "code",
   "execution_count": 3,
   "outputs": [],
   "source": [
    "EXCHANGE = \"N100\"\n",
    "dataset = dataset[dataset[\"Index\"] == EXCHANGE]\n",
    "dataset = dataset.fillna(method='ffill')\n",
    "\n",
    "price = np.array(pd.to_numeric(dataset[\"Close\"]))"
   ],
   "metadata": {
    "collapsed": false,
    "pycharm": {
     "name": "#%%\n"
    }
   }
  },
  {
   "cell_type": "code",
   "execution_count": 4,
   "outputs": [
    {
     "data": {
      "text/plain": "(5507,)"
     },
     "execution_count": 4,
     "metadata": {},
     "output_type": "execute_result"
    }
   ],
   "source": [
    "price.shape"
   ],
   "metadata": {
    "collapsed": false,
    "pycharm": {
     "name": "#%%\n"
    }
   }
  },
  {
   "cell_type": "code",
   "execution_count": 5,
   "outputs": [],
   "source": [
    "TIME_STEPS = 20\n",
    "\n",
    "train_input = np.array([])\n",
    "train_output = np.array([])\n",
    "\n",
    "for index in range(0, price.size - TIME_STEPS - 1):\n",
    "    train_input = np.append(\n",
    "        train_input,\n",
    "        np.array(price[index: index + TIME_STEPS]),\n",
    "    )\n",
    "    train_output = np.append(\n",
    "        train_output,\n",
    "        np.array(price[index + TIME_STEPS]),\n",
    "    )\n",
    "\n",
    "train_input = train_input.reshape(int(train_input.size / TIME_STEPS), TIME_STEPS, 1)\n",
    "train_output = train_output.reshape(train_output.size, 1)"
   ],
   "metadata": {
    "collapsed": false,
    "pycharm": {
     "name": "#%%\n"
    }
   }
  },
  {
   "cell_type": "code",
   "execution_count": 6,
   "outputs": [
    {
     "data": {
      "text/plain": "(5486, 20, 1)"
     },
     "execution_count": 6,
     "metadata": {},
     "output_type": "execute_result"
    }
   ],
   "source": [
    "train_input.shape"
   ],
   "metadata": {
    "collapsed": false,
    "pycharm": {
     "name": "#%%\n"
    }
   }
  },
  {
   "cell_type": "code",
   "execution_count": 7,
   "outputs": [
    {
     "data": {
      "text/plain": "array([1258.579956])"
     },
     "execution_count": 7,
     "metadata": {},
     "output_type": "execute_result"
    }
   ],
   "source": [
    "train_output[-1]"
   ],
   "metadata": {
    "collapsed": false,
    "pycharm": {
     "name": "#%%\n"
    }
   }
  },
  {
   "cell_type": "code",
   "execution_count": 8,
   "outputs": [
    {
     "data": {
      "text/plain": "1258.579956"
     },
     "execution_count": 8,
     "metadata": {},
     "output_type": "execute_result"
    }
   ],
   "source": [
    "price[-2]"
   ],
   "metadata": {
    "collapsed": false,
    "pycharm": {
     "name": "#%%\n"
    }
   }
  },
  {
   "cell_type": "code",
   "execution_count": 9,
   "outputs": [
    {
     "name": "stdout",
     "output_type": "stream",
     "text": [
      "WARNING:tensorflow:Layer lstm will not use cuDNN kernels since it doesn't meet the criteria. It will use a generic GPU kernel as fallback when running on GPU.\n",
      "WARNING:tensorflow:Layer lstm_1 will not use cuDNN kernels since it doesn't meet the criteria. It will use a generic GPU kernel as fallback when running on GPU.\n"
     ]
    }
   ],
   "source": [
    "model = tf.keras.models.load_model(\"model/mse 258.h5\")"
   ],
   "metadata": {
    "collapsed": false,
    "pycharm": {
     "name": "#%%\n"
    }
   }
  },
  {
   "cell_type": "code",
   "execution_count": 10,
   "outputs": [
    {
     "name": "stdout",
     "output_type": "stream",
     "text": [
      "172/172 [==============================] - 4s 12ms/step - loss: 258.3438\n"
     ]
    },
    {
     "data": {
      "text/plain": "258.34375"
     },
     "execution_count": 10,
     "metadata": {},
     "output_type": "execute_result"
    }
   ],
   "source": [
    "model.evaluate(\n",
    "    train_input,\n",
    "    train_output\n",
    ")"
   ],
   "metadata": {
    "collapsed": false,
    "pycharm": {
     "name": "#%%\n"
    }
   }
  },
  {
   "cell_type": "code",
   "execution_count": 12,
   "outputs": [
    {
     "name": "stdout",
     "output_type": "stream",
     "text": [
      "851 ms ± 25.4 ms per loop (mean ± std. dev. of 7 runs, 1 loop each)\n"
     ]
    }
   ],
   "source": [
    "%%timeit\n",
    "\n",
    "PREDICTIONS_NUMBER = 20\n",
    "\n",
    "prediction_input = train_input.copy()\n",
    "prediction_output = np.array([])\n",
    "\n",
    "for _ in range(PREDICTIONS_NUMBER):\n",
    "    prediction = model.predict(\n",
    "        prediction_input[-1].reshape(1, 20, 1),\n",
    "        verbose=False\n",
    "    )\n",
    "    prediction_output = np.append(\n",
    "        prediction_output,\n",
    "        prediction\n",
    "    )\n",
    "\n",
    "    new_time_series = prediction_input[-1][1:]\n",
    "    new_time_series = np.append(new_time_series, [prediction])\n",
    "\n",
    "    shape = prediction_input.shape\n",
    "\n",
    "    prediction_input = np.append(\n",
    "        prediction_input,\n",
    "        [new_time_series]\n",
    "    )\n",
    "\n",
    "    prediction_input = prediction_input.reshape(\n",
    "        int(prediction_input.shape[0] / shape[1]),\n",
    "        shape[1],\n",
    "        shape[2]\n",
    "    )\n",
    "\n",
    "prediction_output = prediction_output.reshape(\n",
    "    PREDICTIONS_NUMBER,\n",
    "    1\n",
    ")\n",
    "\n",
    "prediction_output"
   ],
   "metadata": {
    "collapsed": false,
    "pycharm": {
     "name": "#%%\n"
    }
   }
  },
  {
   "cell_type": "code",
   "execution_count": null,
   "outputs": [],
   "source": [],
   "metadata": {
    "collapsed": false,
    "pycharm": {
     "name": "#%%\n"
    }
   }
  }
 ],
 "metadata": {
  "kernelspec": {
   "display_name": "Python 3",
   "language": "python",
   "name": "python3"
  },
  "language_info": {
   "codemirror_mode": {
    "name": "ipython",
    "version": 2
   },
   "file_extension": ".py",
   "mimetype": "text/x-python",
   "name": "python",
   "nbconvert_exporter": "python",
   "pygments_lexer": "ipython2",
   "version": "2.7.6"
  }
 },
 "nbformat": 4,
 "nbformat_minor": 0
}