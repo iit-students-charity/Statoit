{
 "cells": [
  {
   "cell_type": "code",
   "execution_count": 1,
   "metadata": {
    "collapsed": true,
    "pycharm": {
     "name": "#%%\n"
    }
   },
   "outputs": [],
   "source": [
    "import matplotlib.pyplot as plt\n",
    "import numpy as np\n",
    "import pandas as pd\n",
    "import tensorflow as tf"
   ]
  },
  {
   "cell_type": "code",
   "execution_count": 2,
   "outputs": [],
   "source": [
    "PATH = \"dataset/indexData.csv\"\n",
    "dataset = pd.read_csv(PATH)"
   ],
   "metadata": {
    "collapsed": false,
    "pycharm": {
     "name": "#%%\n"
    }
   }
  },
  {
   "cell_type": "code",
   "execution_count": 3,
   "outputs": [],
   "source": [
    "EXCHANGE = \"N100\"\n",
    "dataset = dataset[dataset[\"Index\"] == EXCHANGE]\n",
    "dataset = dataset.fillna(method='ffill')\n",
    "\n",
    "price = np.array(pd.to_numeric(dataset[\"Close\"]))"
   ],
   "metadata": {
    "collapsed": false,
    "pycharm": {
     "name": "#%%\n"
    }
   }
  },
  {
   "cell_type": "code",
   "execution_count": 4,
   "outputs": [],
   "source": [
    "TIME_STEPS = 20\n",
    "\n",
    "train_input = np.array([])\n",
    "train_output = np.array([])\n",
    "\n",
    "for index in range(TIME_STEPS, price.size):\n",
    "    train_input = np.append(\n",
    "        train_input,\n",
    "        np.array(price[index - TIME_STEPS: index]),\n",
    "    )\n",
    "    train_output = np.append(\n",
    "        train_output,\n",
    "        np.array(price[index]),\n",
    "    )\n",
    "\n",
    "train_input = train_input.reshape(int(train_input.size / TIME_STEPS), TIME_STEPS, 1)\n",
    "train_output = train_output.reshape(train_output.size, 1)"
   ],
   "metadata": {
    "collapsed": false,
    "pycharm": {
     "name": "#%%\n"
    }
   }
  },
  {
   "cell_type": "code",
   "execution_count": 5,
   "outputs": [
    {
     "name": "stdout",
     "output_type": "stream",
     "text": [
      "WARNING:tensorflow:Layer lstm will not use cuDNN kernels since it doesn't meet the criteria. It will use a generic GPU kernel as fallback when running on GPU.\n",
      "WARNING:tensorflow:Layer lstm_1 will not use cuDNN kernels since it doesn't meet the criteria. It will use a generic GPU kernel as fallback when running on GPU.\n",
      "Model: \"sequential\"\n",
      "_________________________________________________________________\n",
      " Layer (type)                Output Shape              Param #   \n",
      "=================================================================\n",
      " lstm (LSTM)                 (None, 20, 256)           264192    \n",
      "                                                                 \n",
      " lstm_1 (LSTM)               (None, 64)                82176     \n",
      "                                                                 \n",
      " dense (Dense)               (None, 1)                 65        \n",
      "                                                                 \n",
      "=================================================================\n",
      "Total params: 346,433\n",
      "Trainable params: 346,433\n",
      "Non-trainable params: 0\n",
      "_________________________________________________________________\n"
     ]
    }
   ],
   "source": [
    "model = tf.keras.models.Sequential()\n",
    "\n",
    "model.add(\n",
    "    tf.keras.layers.LSTM(\n",
    "        256,\n",
    "        input_shape =\n",
    "        (\n",
    "            train_input.shape[1],\n",
    "            train_input.shape[2]\n",
    "        ),\n",
    "        activation=\"relu\",\n",
    "        return_sequences=True)\n",
    ")\n",
    "\n",
    "model.add(\n",
    "    tf.keras.layers.LSTM(\n",
    "        64,\n",
    "        activation=\"relu\",\n",
    "        return_sequences=False\n",
    "    )\n",
    ")\n",
    "\n",
    "model.add(\n",
    "    tf.keras.layers.Dense(1)\n",
    ")\n",
    "\n",
    "model.compile(\n",
    "    optimizer='Adam',\n",
    "    loss='mse',\n",
    ")\n",
    "\n",
    "model.build(train_input.shape)\n",
    "model.summary()"
   ],
   "metadata": {
    "collapsed": false,
    "pycharm": {
     "name": "#%%\n"
    }
   }
  },
  {
   "cell_type": "code",
   "execution_count": 6,
   "outputs": [
    {
     "name": "stdout",
     "output_type": "stream",
     "text": [
      "Epoch 1/30\n",
      "138/138 [==============================] - 11s 65ms/step - loss: 1344195.5000 - val_loss: 98300.0156\n",
      "Epoch 2/30\n",
      "138/138 [==============================] - 9s 64ms/step - loss: 9862.6553 - val_loss: 3719.6089\n",
      "Epoch 3/30\n",
      "138/138 [==============================] - 9s 62ms/step - loss: 1281.4895 - val_loss: 2306.0859\n",
      "Epoch 4/30\n",
      "138/138 [==============================] - 9s 62ms/step - loss: 1091.9974 - val_loss: 2066.9478\n",
      "Epoch 5/30\n",
      "138/138 [==============================] - 9s 62ms/step - loss: 1041.9806 - val_loss: 2152.4058\n",
      "Epoch 6/30\n",
      "138/138 [==============================] - 9s 63ms/step - loss: 1018.7700 - val_loss: 2394.5964\n",
      "Epoch 7/30\n",
      "138/138 [==============================] - 9s 65ms/step - loss: 3463.2078 - val_loss: 2445.2236\n",
      "Epoch 8/30\n",
      "138/138 [==============================] - 9s 62ms/step - loss: 940.9403 - val_loss: 2122.7422\n",
      "Epoch 9/30\n",
      "138/138 [==============================] - 9s 64ms/step - loss: 840.8978 - val_loss: 2042.0435\n",
      "Epoch 10/30\n",
      "138/138 [==============================] - 9s 63ms/step - loss: 826.2065 - val_loss: 1994.9768\n",
      "Epoch 11/30\n",
      "138/138 [==============================] - 8s 62ms/step - loss: 1426.5388 - val_loss: 3334.8840\n",
      "Epoch 12/30\n",
      "138/138 [==============================] - 9s 62ms/step - loss: 995.4164 - val_loss: 2405.6550\n",
      "Epoch 13/30\n",
      "138/138 [==============================] - 9s 62ms/step - loss: 1004.9027 - val_loss: 2151.3513\n",
      "Epoch 14/30\n",
      "138/138 [==============================] - 9s 62ms/step - loss: 1001.0940 - val_loss: 2046.2405\n",
      "Epoch 15/30\n",
      "138/138 [==============================] - 9s 62ms/step - loss: 864.3165 - val_loss: 1893.2390\n",
      "Epoch 16/30\n",
      "138/138 [==============================] - 9s 62ms/step - loss: 824.0325 - val_loss: 1852.0907\n",
      "Epoch 17/30\n",
      "138/138 [==============================] - 8s 61ms/step - loss: 1928.6589 - val_loss: 2712.9092\n",
      "Epoch 18/30\n",
      "138/138 [==============================] - 8s 61ms/step - loss: 1083.7750 - val_loss: 2358.5100\n",
      "Epoch 19/30\n",
      "138/138 [==============================] - 8s 62ms/step - loss: 994.2147 - val_loss: 1766.0359\n",
      "Epoch 20/30\n",
      "138/138 [==============================] - 9s 62ms/step - loss: 986.8314 - val_loss: 1489.0983\n",
      "Epoch 21/30\n",
      "138/138 [==============================] - 8s 61ms/step - loss: 2006.8188 - val_loss: 1763.4493\n",
      "Epoch 22/30\n",
      "138/138 [==============================] - 9s 62ms/step - loss: 789.3171 - val_loss: 1582.0978\n",
      "Epoch 23/30\n",
      "138/138 [==============================] - 9s 64ms/step - loss: 763.5551 - val_loss: 1487.9113\n",
      "Epoch 24/30\n",
      "138/138 [==============================] - 9s 63ms/step - loss: 690.4425 - val_loss: 1400.4187\n",
      "Epoch 25/30\n",
      "138/138 [==============================] - 9s 62ms/step - loss: 648.9378 - val_loss: 1329.1946\n",
      "Epoch 26/30\n",
      "138/138 [==============================] - 8s 61ms/step - loss: 642.8792 - val_loss: 1306.4323\n",
      "Epoch 27/30\n",
      "138/138 [==============================] - 9s 62ms/step - loss: 581.6900 - val_loss: 1236.6880\n",
      "Epoch 28/30\n",
      "138/138 [==============================] - 9s 62ms/step - loss: 559.5706 - val_loss: 1135.2047\n",
      "Epoch 29/30\n",
      "138/138 [==============================] - 8s 62ms/step - loss: 496.3548 - val_loss: 988.8865\n",
      "Epoch 30/30\n",
      "138/138 [==============================] - 9s 62ms/step - loss: 458.3590 - val_loss: 1106.0272\n"
     ]
    }
   ],
   "source": [
    "history = model.fit(\n",
    "    train_input,\n",
    "    train_output,\n",
    "    # batch_size=128,\n",
    "    validation_split=0.2,\n",
    "    epochs=30,\n",
    "    verbose=True,\n",
    ")"
   ],
   "metadata": {
    "collapsed": false,
    "pycharm": {
     "name": "#%%\n"
    }
   }
  },
  {
   "cell_type": "code",
   "execution_count": 7,
   "outputs": [
    {
     "name": "stdout",
     "output_type": "stream",
     "text": [
      "172/172 [==============================] - 2s 10ms/step - loss: 651.0574\n"
     ]
    }
   ],
   "source": [
    "error = int(\n",
    "    model.evaluate(\n",
    "        train_input,\n",
    "        train_output\n",
    "    )\n",
    ")\n",
    "\n",
    "model.save(f\"model/{model.loss} {error}.h5\")"
   ],
   "metadata": {
    "collapsed": false,
    "pycharm": {
     "name": "#%%\n"
    }
   }
  },
  {
   "cell_type": "code",
   "execution_count": 8,
   "outputs": [
    {
     "data": {
      "text/plain": "<Figure size 432x288 with 1 Axes>",
      "image/png": "[encoded data removed]"
     },
     "metadata": {
      "needs_background": "light"
     },
     "output_type": "display_data"
    }
   ],
   "source": [
    "plt.plot(train_output)\n",
    "plt.plot(\n",
    "    model.predict(\n",
    "        train_input,\n",
    "        verbose=False\n",
    "    )\n",
    ")\n",
    "plt.show()"
   ],
   "metadata": {
    "collapsed": false,
    "pycharm": {
     "name": "#%%\n"
    }
   }
  },
  {
   "cell_type": "code",
   "execution_count": 9,
   "outputs": [
    {
     "data": {
      "text/plain": "array([[1261.1776123 ],\n       [1260.44604492],\n       [1269.36987305],\n       [1276.68811035],\n       [1283.84399414],\n       [1286.25732422],\n       [1286.30175781],\n       [1290.4387207 ],\n       [1298.84277344],\n       [1302.92053223],\n       [1310.20263672],\n       [1312.52709961],\n       [1315.04272461],\n       [1321.31762695],\n       [1326.29882812],\n       [1331.87744141],\n       [1337.64013672],\n       [1341.04199219],\n       [1346.85107422],\n       [1352.3092041 ],\n       [1357.75268555],\n       [1363.40075684],\n       [1367.29272461],\n       [1371.70898438],\n       [1377.39941406],\n       [1383.1081543 ],\n       [1388.97753906],\n       [1394.34277344],\n       [1398.75292969],\n       [1404.14672852],\n       [1409.56872559],\n       [1415.33044434],\n       [1421.22802734],\n       [1426.44702148],\n       [1431.78637695],\n       [1437.38110352],\n       [1442.94641113],\n       [1448.82104492],\n       [1454.37963867],\n       [1459.80419922],\n       [1465.51208496],\n       [1471.30334473],\n       [1477.28662109],\n       [1483.23632812],\n       [1488.92883301],\n       [1494.6697998 ],\n       [1500.54174805],\n       [1506.50793457],\n       [1512.65368652],\n       [1518.67431641],\n       [1524.64331055],\n       [1530.66772461],\n       [1536.72753906],\n       [1542.92041016],\n       [1549.14404297],\n       [1555.31665039],\n       [1561.53613281],\n       [1567.79284668],\n       [1574.12536621],\n       [1580.52941895],\n       [1586.90710449],\n       [1593.2890625 ],\n       [1599.70666504],\n       [1606.17541504],\n       [1612.72900391],\n       [1619.31787109],\n       [1625.90637207],\n       [1632.52075195],\n       [1639.15893555],\n       [1645.85644531],\n       [1652.6126709 ],\n       [1659.39404297],\n       [1666.2043457 ],\n       [1673.0435791 ],\n       [1679.92114258],\n       [1686.85241699],\n       [1693.82006836],\n       [1700.81542969],\n       [1707.84375   ],\n       [1714.90649414],\n       [1722.0177002 ],\n       [1729.17578125],\n       [1736.36901855],\n       [1743.5958252 ],\n       [1750.85461426],\n       [1758.15209961],\n       [1765.49560547],\n       [1772.88098145],\n       [1780.3046875 ],\n       [1787.76513672],\n       [1795.26196289],\n       [1802.79980469],\n       [1810.37988281],\n       [1817.99975586],\n       [1825.65856934],\n       [1833.35546875],\n       [1841.09216309],\n       [1848.8717041 ],\n       [1856.69238281],\n       [1864.5534668 ],\n       [1872.45397949],\n       [1880.39282227],\n       [1888.37304688],\n       [1896.39453125],\n       [1904.45800781],\n       [1912.5625    ],\n       [1920.70703125],\n       [1928.89233398],\n       [1937.11816406],\n       [1945.38574219],\n       [1953.6953125 ],\n       [1962.04614258],\n       [1970.43786621],\n       [1978.87109375],\n       [1987.34655762],\n       [1995.86425781],\n       [2004.42382812],\n       [2013.02526855],\n       [2021.66894531],\n       [2030.35461426],\n       [2039.08300781],\n       [2047.85473633],\n       [2056.66967773],\n       [2065.52758789],\n       [2074.42871094],\n       [2083.37329102],\n       [2092.36157227],\n       [2101.39428711],\n       [2110.47070312],\n       [2119.59155273],\n       [2128.7565918 ],\n       [2137.96630859],\n       [2147.22094727],\n       [2156.52075195],\n       [2165.86499023],\n       [2175.25512695],\n       [2184.69091797],\n       [2194.17114258],\n       [2203.69799805],\n       [2213.27075195],\n       [2222.88916016],\n       [2232.55371094],\n       [2242.26513672],\n       [2252.0222168 ],\n       [2261.8269043 ],\n       [2271.67749023],\n       [2281.57495117],\n       [2291.51928711],\n       [2301.51123047],\n       [2311.54931641],\n       [2321.63525391],\n       [2331.76879883],\n       [2341.94995117],\n       [2352.17895508],\n       [2362.45532227],\n       [2372.7800293 ],\n       [2383.15258789],\n       [2393.57299805],\n       [2404.04174805],\n       [2414.55883789],\n       [2425.12475586],\n       [2435.73950195],\n       [2446.40258789],\n       [2457.11425781],\n       [2467.87573242],\n       [2478.6862793 ],\n       [2489.54516602],\n       [2500.45385742],\n       [2511.41186523],\n       [2522.41943359],\n       [2533.47680664],\n       [2544.5847168 ],\n       [2555.7421875 ],\n       [2566.94897461],\n       [2578.20678711],\n       [2589.5144043 ],\n       [2600.87280273],\n       [2612.28149414],\n       [2623.7409668 ],\n       [2635.2512207 ],\n       [2646.81298828],\n       [2658.42626953],\n       [2670.08959961],\n       [2681.80541992],\n       [2693.57275391],\n       [2705.39086914],\n       [2717.26098633],\n       [2729.18334961],\n       [2741.15771484],\n       [2753.18383789],\n       [2765.26293945],\n       [2777.39428711],\n       [2789.57861328],\n       [2801.81567383],\n       [2814.10717773],\n       [2826.44995117],\n       [2838.84667969],\n       [2851.29638672],\n       [2863.80078125],\n       [2876.3581543 ],\n       [2888.96972656],\n       [2901.63500977],\n       [2914.35498047],\n       [2927.12963867],\n       [2939.95922852],\n       [2952.84301758],\n       [2965.78222656],\n       [2978.77709961],\n       [2991.8269043 ],\n       [3004.93286133],\n       [3018.09399414],\n       [3031.31225586],\n       [3044.58569336],\n       [3057.91723633],\n       [3071.30395508],\n       [3084.74853516],\n       [3098.24975586],\n       [3111.80883789],\n       [3125.42602539],\n       [3139.10205078],\n       [3152.83520508],\n       [3166.62719727],\n       [3180.47875977],\n       [3194.38964844],\n       [3208.35961914],\n       [3222.39013672],\n       [3236.48144531],\n       [3250.63256836],\n       [3264.84643555],\n       [3279.12084961],\n       [3293.45800781],\n       [3307.85717773],\n       [3322.31958008],\n       [3336.84619141],\n       [3351.43701172],\n       [3366.09399414],\n       [3380.81616211],\n       [3395.60571289],\n       [3410.46191406],\n       [3425.38696289],\n       [3440.37915039],\n       [3455.44165039],\n       [3470.57324219],\n       [3485.77563477],\n       [3501.04711914],\n       [3516.38891602],\n       [3531.80004883],\n       [3547.2800293 ],\n       [3562.82788086],\n       [3578.44360352],\n       [3594.12280273],\n       [3609.86791992],\n       [3625.67578125],\n       [3641.54663086],\n       [3657.48022461],\n       [3673.47583008],\n       [3689.53613281],\n       [3705.6628418 ],\n       [3721.85473633],\n       [3738.11547852],\n       [3754.4453125 ],\n       [3770.84594727],\n       [3787.3137207 ],\n       [3803.85375977],\n       [3820.46069336],\n       [3837.13549805],\n       [3853.87768555],\n       [3870.68579102],\n       [3887.55834961],\n       [3904.49780273],\n       [3921.50317383],\n       [3938.57543945],\n       [3955.71313477],\n       [3972.92260742],\n       [3990.20043945],\n       [4007.55004883],\n       [4024.97973633],\n       [4042.48486328],\n       [4060.0625    ],\n       [4077.71313477],\n       [4095.43408203],\n       [4113.22314453],\n       [4131.08105469],\n       [4149.00390625],\n       [4166.99755859],\n       [4185.05761719],\n       [4203.19140625],\n       [4221.39941406],\n       [4239.68164062],\n       [4258.04052734],\n       [4276.47509766],\n       [4294.98779297],\n       [4313.57519531],\n       [4332.24023438],\n       [4350.97949219],\n       [4369.79589844],\n       [4388.6875    ],\n       [4407.64990234],\n       [4426.6875    ],\n       [4445.79882812],\n       [4464.98388672],\n       [4484.24169922],\n       [4503.57910156],\n       [4522.99365234],\n       [4542.49023438],\n       [4562.06738281],\n       [4581.72851562],\n       [4601.46972656],\n       [4621.29492188],\n       [4641.19921875],\n       [4661.18066406],\n       [4681.24414062],\n       [4701.38378906],\n       [4721.60253906],\n       [4741.90136719],\n       [4762.28222656],\n       [4782.74316406],\n       [4803.2890625 ],\n       [4823.91796875],\n       [4844.63378906],\n       [4865.43408203],\n       [4886.32177734],\n       [4907.29492188],\n       [4928.35644531],\n       [4949.50341797],\n       [4970.73730469],\n       [4992.05615234],\n       [5013.46142578],\n       [5034.95166016],\n       [5056.52685547],\n       [5078.18994141],\n       [5099.94042969],\n       [5121.78125   ],\n       [5143.71289062],\n       [5165.73583984],\n       [5187.8515625 ],\n       [5210.05957031],\n       [5232.359375  ],\n       [5254.75341797],\n       [5277.23828125],\n       [5299.81542969],\n       [5322.48535156],\n       [5345.24951172],\n       [5368.10546875],\n       [5391.0546875 ],\n       [5414.09960938],\n       [5437.24023438],\n       [5460.47558594],\n       [5483.80810547],\n       [5507.24023438],\n       [5530.76855469],\n       [5554.39648438],\n       [5578.125     ],\n       [5601.953125  ],\n       [5625.87939453],\n       [5649.90722656],\n       [5674.03466797],\n       [5698.26220703],\n       [5722.58935547],\n       [5747.01953125],\n       [5771.54980469],\n       [5796.18603516],\n       [5820.92333984],\n       [5845.76757812],\n       [5870.71533203]])"
     },
     "execution_count": 9,
     "metadata": {},
     "output_type": "execute_result"
    }
   ],
   "source": [
    "PREDICTIONS_NUMBER = 365\n",
    "\n",
    "prediction_input = train_input.copy()\n",
    "prediction_output = np.array([])\n",
    "\n",
    "for _ in range(PREDICTIONS_NUMBER):\n",
    "    prediction = model.predict(\n",
    "        prediction_input[-1].reshape(1, TIME_STEPS, 1),\n",
    "        verbose=False\n",
    "    )\n",
    "    prediction_output = np.append(\n",
    "        prediction_output,\n",
    "        prediction\n",
    "    )\n",
    "\n",
    "    new_time_series = prediction_input[-1][1:]\n",
    "    new_time_series = np.append(new_time_series, [prediction])\n",
    "\n",
    "    shape = prediction_input.shape\n",
    "\n",
    "    prediction_input = np.append(\n",
    "        prediction_input,\n",
    "        [new_time_series]\n",
    "    )\n",
    "\n",
    "    prediction_input = prediction_input.reshape(\n",
    "        int(prediction_input.shape[0] / shape[1]),\n",
    "        shape[1],\n",
    "        shape[2]\n",
    "    )\n",
    "\n",
    "prediction_output = prediction_output.reshape(\n",
    "    PREDICTIONS_NUMBER,\n",
    "    1\n",
    ")\n",
    "\n",
    "prediction_output"
   ],
   "metadata": {
    "collapsed": false,
    "pycharm": {
     "name": "#%%\n"
    }
   }
  },
  {
   "cell_type": "code",
   "execution_count": 10,
   "outputs": [
    {
     "data": {
      "text/plain": "<Figure size 432x288 with 1 Axes>",
      "image/png": "[encoded data removed]"
     },
     "metadata": {
      "needs_background": "light"
     },
     "output_type": "display_data"
    }
   ],
   "source": [
    "prediction_output = np.append(\n",
    "    train_output,\n",
    "    prediction_output\n",
    ")\n",
    "\n",
    "plt.plot(prediction_output)\n",
    "plt.plot(train_output)\n",
    "plt.show()"
   ],
   "metadata": {
    "collapsed": false,
    "pycharm": {
     "name": "#%%\n"
    }
   }
  }
 ],
 "metadata": {
  "kernelspec": {
   "display_name": "Python 3",
   "language": "python",
   "name": "python3"
  },
  "language_info": {
   "codemirror_mode": {
    "name": "ipython",
    "version": 2
   },
   "file_extension": ".py",
   "mimetype": "text/x-python",
   "name": "python",
   "nbconvert_exporter": "python",
   "pygments_lexer": "ipython2",
   "version": "2.7.6"
  }
 },
 "nbformat": 4,
 "nbformat_minor": 0
}